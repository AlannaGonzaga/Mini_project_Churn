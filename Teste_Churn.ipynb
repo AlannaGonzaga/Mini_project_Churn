{
  "nbformat": 4,
  "nbformat_minor": 0,
  "metadata": {
    "colab": {
      "name": "Teste_Churn.ipynb",
      "provenance": [],
      "collapsed_sections": [],
      "authorship_tag": "ABX9TyMAZACx0VeHGxH8JgfeivmR",
      "include_colab_link": true
    },
    "kernelspec": {
      "name": "python3",
      "display_name": "Python 3"
    },
    "language_info": {
      "name": "python"
    }
  },
  "cells": [
    {
      "cell_type": "markdown",
      "metadata": {
        "id": "view-in-github",
        "colab_type": "text"
      },
      "source": [
        "<a href=\"https://colab.research.google.com/github/AlannaGonzaga/Mini_project_Churn/blob/main/Teste_Churn.ipynb\" target=\"_parent\"><img src=\"https://colab.research.google.com/assets/colab-badge.svg\" alt=\"Open In Colab\"/></a>"
      ]
    },
    {
      "cell_type": "markdown",
      "metadata": {
        "id": "Ja4EbyJQSMfv"
      },
      "source": [
        "# Análise Churn - Setor Bancário\n",
        "<center><img alt=\"Analise Churn\"  src=\"https://cdn.corporatefinanceinstitute.com/assets/churn-rate-1024x683.jpeg\"></center>"
      ]
    },
    {
      "cell_type": "markdown",
      "metadata": {
        "id": "vVZdUxk0pJzE"
      },
      "source": [
        "O dataset contém dados de clientes que tem proabilidade de deixar um banco. O arquivo em formato csv foi disponibilizado com objetivo de fazer uma análise mais assertiva para descobrir as possíveis causas dos clientes estarem deixando de continuar com os serviços bancários.\n",
        "\n",
        "O objetivo desse projeto é montar um modelo preditivo com análises exploratória do perfil dos clientes para prevêr se o cliente vai manter a conta no banco ou tem probabilidade de cancelar.\n",
        "\n"
      ]
    },
    {
      "cell_type": "markdown",
      "metadata": {
        "id": "aWQCQ74HSaCI"
      },
      "source": [
        "## Obtenção dos Dados"
      ]
    },
    {
      "cell_type": "markdown",
      "metadata": {
        "id": "t4xokiy6SbPk"
      },
      "source": [
        "Todos os dados utilizados aqui foram obtidos a partir de um arquivo disponibilizado em csv.\n",
        "\n",
        "Abaixo as bibliotecas que serão utilizadas."
      ]
    },
    {
      "cell_type": "code",
      "metadata": {
        "id": "kj1MYCuzOB77"
      },
      "source": [
        "import pandas as pd\n",
        "import numpy as np \n",
        "import matplotlib.pyplot as plt  \n",
        "import seaborn as sns\n",
        "import statistics  as sts\n",
        "\n",
        "\n",
        "sns.set()\n",
        "\n",
        "%matplotlib inline \n",
        "import warnings\n",
        "warnings.filterwarnings('ignore')"
      ],
      "execution_count": null,
      "outputs": []
    },
    {
      "cell_type": "markdown",
      "metadata": {
        "id": "jGyYfJfSS3WG"
      },
      "source": [
        "### Busca e visualização das cinco primeiras linhas do dataset."
      ]
    },
    {
      "cell_type": "code",
      "metadata": {
        "id": "y5YnHpNMODxU"
      },
      "source": [
        "dados = pd.read_csv('bank_customers.csv')"
      ],
      "execution_count": null,
      "outputs": []
    },
    {
      "cell_type": "code",
      "metadata": {
        "colab": {
          "base_uri": "https://localhost:8080/",
          "height": 202
        },
        "id": "sWV_kFUoOVli",
        "outputId": "d26a43b6-1608-4470-d1f4-8e3a3a9a0c83"
      },
      "source": [
        "dados.head()"
      ],
      "execution_count": null,
      "outputs": [
        {
          "output_type": "execute_result",
          "data": {
            "text/html": [
              "<div>\n",
              "<style scoped>\n",
              "    .dataframe tbody tr th:only-of-type {\n",
              "        vertical-align: middle;\n",
              "    }\n",
              "\n",
              "    .dataframe tbody tr th {\n",
              "        vertical-align: top;\n",
              "    }\n",
              "\n",
              "    .dataframe thead th {\n",
              "        text-align: right;\n",
              "    }\n",
              "</style>\n",
              "<table border=\"1\" class=\"dataframe\">\n",
              "  <thead>\n",
              "    <tr style=\"text-align: right;\">\n",
              "      <th></th>\n",
              "      <th>RowNumber</th>\n",
              "      <th>CustomerId</th>\n",
              "      <th>Surname</th>\n",
              "      <th>CreditScore</th>\n",
              "      <th>Geography</th>\n",
              "      <th>Gender</th>\n",
              "      <th>Age</th>\n",
              "      <th>Tenure</th>\n",
              "      <th>Balance</th>\n",
              "      <th>NumOfProducts</th>\n",
              "      <th>HasCrCard</th>\n",
              "      <th>IsActiveMember</th>\n",
              "      <th>EstimatedSalary</th>\n",
              "      <th>Exited</th>\n",
              "    </tr>\n",
              "  </thead>\n",
              "  <tbody>\n",
              "    <tr>\n",
              "      <th>0</th>\n",
              "      <td>1</td>\n",
              "      <td>15634602</td>\n",
              "      <td>Hargrave</td>\n",
              "      <td>619</td>\n",
              "      <td>France</td>\n",
              "      <td>Female</td>\n",
              "      <td>42</td>\n",
              "      <td>2</td>\n",
              "      <td>0.00</td>\n",
              "      <td>1</td>\n",
              "      <td>1</td>\n",
              "      <td>1</td>\n",
              "      <td>101348.88</td>\n",
              "      <td>1</td>\n",
              "    </tr>\n",
              "    <tr>\n",
              "      <th>1</th>\n",
              "      <td>2</td>\n",
              "      <td>15647311</td>\n",
              "      <td>Hill</td>\n",
              "      <td>608</td>\n",
              "      <td>Spain</td>\n",
              "      <td>Female</td>\n",
              "      <td>41</td>\n",
              "      <td>1</td>\n",
              "      <td>83807.86</td>\n",
              "      <td>1</td>\n",
              "      <td>0</td>\n",
              "      <td>1</td>\n",
              "      <td>112542.58</td>\n",
              "      <td>0</td>\n",
              "    </tr>\n",
              "    <tr>\n",
              "      <th>2</th>\n",
              "      <td>3</td>\n",
              "      <td>15619304</td>\n",
              "      <td>Onio</td>\n",
              "      <td>502</td>\n",
              "      <td>France</td>\n",
              "      <td>Female</td>\n",
              "      <td>42</td>\n",
              "      <td>8</td>\n",
              "      <td>159660.80</td>\n",
              "      <td>3</td>\n",
              "      <td>1</td>\n",
              "      <td>0</td>\n",
              "      <td>113931.57</td>\n",
              "      <td>1</td>\n",
              "    </tr>\n",
              "    <tr>\n",
              "      <th>3</th>\n",
              "      <td>4</td>\n",
              "      <td>15701354</td>\n",
              "      <td>Boni</td>\n",
              "      <td>699</td>\n",
              "      <td>France</td>\n",
              "      <td>Female</td>\n",
              "      <td>39</td>\n",
              "      <td>1</td>\n",
              "      <td>0.00</td>\n",
              "      <td>2</td>\n",
              "      <td>0</td>\n",
              "      <td>0</td>\n",
              "      <td>93826.63</td>\n",
              "      <td>0</td>\n",
              "    </tr>\n",
              "    <tr>\n",
              "      <th>4</th>\n",
              "      <td>5</td>\n",
              "      <td>15737888</td>\n",
              "      <td>Mitchell</td>\n",
              "      <td>850</td>\n",
              "      <td>Spain</td>\n",
              "      <td>Female</td>\n",
              "      <td>43</td>\n",
              "      <td>2</td>\n",
              "      <td>125510.82</td>\n",
              "      <td>1</td>\n",
              "      <td>1</td>\n",
              "      <td>1</td>\n",
              "      <td>79084.10</td>\n",
              "      <td>0</td>\n",
              "    </tr>\n",
              "  </tbody>\n",
              "</table>\n",
              "</div>"
            ],
            "text/plain": [
              "   RowNumber  CustomerId   Surname  ...  IsActiveMember EstimatedSalary Exited\n",
              "0          1    15634602  Hargrave  ...               1       101348.88      1\n",
              "1          2    15647311      Hill  ...               1       112542.58      0\n",
              "2          3    15619304      Onio  ...               0       113931.57      1\n",
              "3          4    15701354      Boni  ...               0        93826.63      0\n",
              "4          5    15737888  Mitchell  ...               1        79084.10      0\n",
              "\n",
              "[5 rows x 14 columns]"
            ]
          },
          "metadata": {},
          "execution_count": 156
        }
      ]
    },
    {
      "cell_type": "markdown",
      "metadata": {
        "id": "oqtc_-7iTTUg"
      },
      "source": [
        "### Resumo geral do Dataset"
      ]
    },
    {
      "cell_type": "code",
      "metadata": {
        "colab": {
          "base_uri": "https://localhost:8080/"
        },
        "id": "A9-ZRY8SpnaW",
        "outputId": "45f2a2cf-f2a9-4845-e463-1802816369c8"
      },
      "source": [
        "print('Este dataset contém:')\n",
        "print('{:,} entradas'.format(dados.shape[0]).replace(',','.'))\n",
        "print('{} Variáveis'.format(dados.shape[1]))"
      ],
      "execution_count": null,
      "outputs": [
        {
          "output_type": "stream",
          "name": "stdout",
          "text": [
            "Este dataset contém:\n",
            "10.000 entradas\n",
            "14 Variáveis\n"
          ]
        }
      ]
    },
    {
      "cell_type": "code",
      "metadata": {
        "colab": {
          "base_uri": "https://localhost:8080/"
        },
        "id": "hTtpD9Hkp0Os",
        "outputId": "67f6c6f7-83f8-40cf-bcf4-c1c511e7f1d0"
      },
      "source": [
        "#Total de Clientes ativos\n",
        "dados.IsActiveMember.sum()\n"
      ],
      "execution_count": null,
      "outputs": [
        {
          "output_type": "execute_result",
          "data": {
            "text/plain": [
              "5151"
            ]
          },
          "metadata": {},
          "execution_count": 158
        }
      ]
    },
    {
      "cell_type": "code",
      "metadata": {
        "colab": {
          "base_uri": "https://localhost:8080/"
        },
        "id": "3B8iWE8JsAyV",
        "outputId": "5a4fc145-34dc-43d3-cf8d-67df45e869b8"
      },
      "source": [
        "#Total de clientes inativos\n",
        "dados.Exited.sum()"
      ],
      "execution_count": null,
      "outputs": [
        {
          "output_type": "execute_result",
          "data": {
            "text/plain": [
              "2037"
            ]
          },
          "metadata": {},
          "execution_count": 159
        }
      ]
    },
    {
      "cell_type": "code",
      "metadata": {
        "colab": {
          "base_uri": "https://localhost:8080/"
        },
        "id": "_FvEX8o8nYLx",
        "outputId": "708ed273-2a21-41f1-88f2-7d9cd2c5befa"
      },
      "source": [
        "#Classificação de gênero\n",
        "dados.groupby(['Gender']).size()"
      ],
      "execution_count": null,
      "outputs": [
        {
          "output_type": "execute_result",
          "data": {
            "text/plain": [
              "Gender\n",
              "Female    4543\n",
              "Male      5457\n",
              "dtype: int64"
            ]
          },
          "metadata": {},
          "execution_count": 160
        }
      ]
    },
    {
      "cell_type": "code",
      "metadata": {
        "colab": {
          "base_uri": "https://localhost:8080/",
          "height": 315
        },
        "id": "Hh5vISWfpEeB",
        "outputId": "d8c71570-a6e7-4d0d-ddad-0753c422a650"
      },
      "source": [
        "dados.Gender.value_counts().plot(kind='bar')"
      ],
      "execution_count": null,
      "outputs": [
        {
          "output_type": "execute_result",
          "data": {
            "text/plain": [
              "<matplotlib.axes._subplots.AxesSubplot at 0x7f49e67f26d0>"
            ]
          },
          "metadata": {},
          "execution_count": 161
        },
        {
          "output_type": "display_data",
          "data": {
            "image/png": "[encoded data removed]",
            "text/plain": [
              "<Figure size 432x288 with 1 Axes>"
            ]
          },
          "metadata": {
            "needs_background": "light"
          }
        }
      ]
    },
    {
      "cell_type": "markdown",
      "metadata": {
        "id": "Ahy5BQx7T4DA"
      },
      "source": [
        "Foi feita uma cópia da base de dados somente com os clientes inativos"
      ]
    },
    {
      "cell_type": "code",
      "metadata": {
        "id": "PKxPKR4ATUys"
      },
      "source": [
        "df= dados.copy()\n",
        "dados_churn = df[df[\"Exited\"] == 1]"
      ],
      "execution_count": null,
      "outputs": []
    },
    {
      "cell_type": "code",
      "metadata": {
        "colab": {
          "base_uri": "https://localhost:8080/",
          "height": 141
        },
        "id": "F-HSVNLKpqjn",
        "outputId": "b13422d7-e560-4118-d67a-8737af15df32"
      },
      "source": [
        "# saídas por genero\n",
        "dados_churn.groupby(\"Gender\").agg({\"Exited\": \"count\"})"
      ],
      "execution_count": null,
      "outputs": [
        {
          "output_type": "execute_result",
          "data": {
            "text/html": [
              "<div>\n",
              "<style scoped>\n",
              "    .dataframe tbody tr th:only-of-type {\n",
              "        vertical-align: middle;\n",
              "    }\n",
              "\n",
              "    .dataframe tbody tr th {\n",
              "        vertical-align: top;\n",
              "    }\n",
              "\n",
              "    .dataframe thead th {\n",
              "        text-align: right;\n",
              "    }\n",
              "</style>\n",
              "<table border=\"1\" class=\"dataframe\">\n",
              "  <thead>\n",
              "    <tr style=\"text-align: right;\">\n",
              "      <th></th>\n",
              "      <th>Exited</th>\n",
              "    </tr>\n",
              "    <tr>\n",
              "      <th>Gender</th>\n",
              "      <th></th>\n",
              "    </tr>\n",
              "  </thead>\n",
              "  <tbody>\n",
              "    <tr>\n",
              "      <th>Female</th>\n",
              "      <td>1139</td>\n",
              "    </tr>\n",
              "    <tr>\n",
              "      <th>Male</th>\n",
              "      <td>898</td>\n",
              "    </tr>\n",
              "  </tbody>\n",
              "</table>\n",
              "</div>"
            ],
            "text/plain": [
              "        Exited\n",
              "Gender        \n",
              "Female    1139\n",
              "Male       898"
            ]
          },
          "metadata": {},
          "execution_count": 163
        }
      ]
    },
    {
      "cell_type": "code",
      "metadata": {
        "colab": {
          "base_uri": "https://localhost:8080/",
          "height": 171
        },
        "id": "ZfHoh9Tw0hh-",
        "outputId": "d46745d1-b3e4-47ef-a31f-7efeba22455a"
      },
      "source": [
        "# saídas por localidade\n",
        "dados_churn.groupby(\"Geography\").agg({\"Exited\": \"count\"})"
      ],
      "execution_count": null,
      "outputs": [
        {
          "output_type": "execute_result",
          "data": {
            "text/html": [
              "<div>\n",
              "<style scoped>\n",
              "    .dataframe tbody tr th:only-of-type {\n",
              "        vertical-align: middle;\n",
              "    }\n",
              "\n",
              "    .dataframe tbody tr th {\n",
              "        vertical-align: top;\n",
              "    }\n",
              "\n",
              "    .dataframe thead th {\n",
              "        text-align: right;\n",
              "    }\n",
              "</style>\n",
              "<table border=\"1\" class=\"dataframe\">\n",
              "  <thead>\n",
              "    <tr style=\"text-align: right;\">\n",
              "      <th></th>\n",
              "      <th>Exited</th>\n",
              "    </tr>\n",
              "    <tr>\n",
              "      <th>Geography</th>\n",
              "      <th></th>\n",
              "    </tr>\n",
              "  </thead>\n",
              "  <tbody>\n",
              "    <tr>\n",
              "      <th>France</th>\n",
              "      <td>810</td>\n",
              "    </tr>\n",
              "    <tr>\n",
              "      <th>Germany</th>\n",
              "      <td>814</td>\n",
              "    </tr>\n",
              "    <tr>\n",
              "      <th>Spain</th>\n",
              "      <td>413</td>\n",
              "    </tr>\n",
              "  </tbody>\n",
              "</table>\n",
              "</div>"
            ],
            "text/plain": [
              "           Exited\n",
              "Geography        \n",
              "France        810\n",
              "Germany       814\n",
              "Spain         413"
            ]
          },
          "metadata": {},
          "execution_count": 170
        }
      ]
    },
    {
      "cell_type": "code",
      "metadata": {
        "colab": {
          "base_uri": "https://localhost:8080/",
          "height": 141
        },
        "id": "LnymMDRleJ1s",
        "outputId": "32d3fd42-b7ea-4e0d-c0b7-822f9376e396"
      },
      "source": [
        "# saídas dos clientes que possuíam cartões de crédito\n",
        "dados_churn.groupby(\"HasCrCard\").agg({\"Exited\": \"count\"})"
      ],
      "execution_count": null,
      "outputs": [
        {
          "output_type": "execute_result",
          "data": {
            "text/html": [
              "<div>\n",
              "<style scoped>\n",
              "    .dataframe tbody tr th:only-of-type {\n",
              "        vertical-align: middle;\n",
              "    }\n",
              "\n",
              "    .dataframe tbody tr th {\n",
              "        vertical-align: top;\n",
              "    }\n",
              "\n",
              "    .dataframe thead th {\n",
              "        text-align: right;\n",
              "    }\n",
              "</style>\n",
              "<table border=\"1\" class=\"dataframe\">\n",
              "  <thead>\n",
              "    <tr style=\"text-align: right;\">\n",
              "      <th></th>\n",
              "      <th>Exited</th>\n",
              "    </tr>\n",
              "    <tr>\n",
              "      <th>HasCrCard</th>\n",
              "      <th></th>\n",
              "    </tr>\n",
              "  </thead>\n",
              "  <tbody>\n",
              "    <tr>\n",
              "      <th>0</th>\n",
              "      <td>613</td>\n",
              "    </tr>\n",
              "    <tr>\n",
              "      <th>1</th>\n",
              "      <td>1424</td>\n",
              "    </tr>\n",
              "  </tbody>\n",
              "</table>\n",
              "</div>"
            ],
            "text/plain": [
              "           Exited\n",
              "HasCrCard        \n",
              "0             613\n",
              "1            1424"
            ]
          },
          "metadata": {},
          "execution_count": 176
        }
      ]
    },
    {
      "cell_type": "code",
      "metadata": {
        "colab": {
          "base_uri": "https://localhost:8080/",
          "height": 202
        },
        "id": "BV2TBivTg4Kz",
        "outputId": "86d7ef0c-f340-4355-ec74-5244fd823925"
      },
      "source": [
        "# saídas dos clientes com produtos no banco\n",
        "dados_churn.groupby(\"NumOfProducts\").agg({\"Exited\": \"count\"})"
      ],
      "execution_count": null,
      "outputs": [
        {
          "output_type": "execute_result",
          "data": {
            "text/html": [
              "<div>\n",
              "<style scoped>\n",
              "    .dataframe tbody tr th:only-of-type {\n",
              "        vertical-align: middle;\n",
              "    }\n",
              "\n",
              "    .dataframe tbody tr th {\n",
              "        vertical-align: top;\n",
              "    }\n",
              "\n",
              "    .dataframe thead th {\n",
              "        text-align: right;\n",
              "    }\n",
              "</style>\n",
              "<table border=\"1\" class=\"dataframe\">\n",
              "  <thead>\n",
              "    <tr style=\"text-align: right;\">\n",
              "      <th></th>\n",
              "      <th>Exited</th>\n",
              "    </tr>\n",
              "    <tr>\n",
              "      <th>NumOfProducts</th>\n",
              "      <th></th>\n",
              "    </tr>\n",
              "  </thead>\n",
              "  <tbody>\n",
              "    <tr>\n",
              "      <th>1</th>\n",
              "      <td>1409</td>\n",
              "    </tr>\n",
              "    <tr>\n",
              "      <th>2</th>\n",
              "      <td>348</td>\n",
              "    </tr>\n",
              "    <tr>\n",
              "      <th>3</th>\n",
              "      <td>220</td>\n",
              "    </tr>\n",
              "    <tr>\n",
              "      <th>4</th>\n",
              "      <td>60</td>\n",
              "    </tr>\n",
              "  </tbody>\n",
              "</table>\n",
              "</div>"
            ],
            "text/plain": [
              "               Exited\n",
              "NumOfProducts        \n",
              "1                1409\n",
              "2                 348\n",
              "3                 220\n",
              "4                  60"
            ]
          },
          "metadata": {},
          "execution_count": 177
        }
      ]
    },
    {
      "cell_type": "code",
      "metadata": {
        "colab": {
          "base_uri": "https://localhost:8080/",
          "height": 141
        },
        "id": "GI_qijTFhOt8",
        "outputId": "bbe7fbc5-5b4a-4bf9-94d8-3a33c8e2db76"
      },
      "source": [
        "# saídas dos clientes que mantinham a carteira ativa\n",
        "dados_churn.groupby(\"IsActiveMember\").agg({\"Exited\": \"count\"})"
      ],
      "execution_count": null,
      "outputs": [
        {
          "output_type": "execute_result",
          "data": {
            "text/html": [
              "<div>\n",
              "<style scoped>\n",
              "    .dataframe tbody tr th:only-of-type {\n",
              "        vertical-align: middle;\n",
              "    }\n",
              "\n",
              "    .dataframe tbody tr th {\n",
              "        vertical-align: top;\n",
              "    }\n",
              "\n",
              "    .dataframe thead th {\n",
              "        text-align: right;\n",
              "    }\n",
              "</style>\n",
              "<table border=\"1\" class=\"dataframe\">\n",
              "  <thead>\n",
              "    <tr style=\"text-align: right;\">\n",
              "      <th></th>\n",
              "      <th>Exited</th>\n",
              "    </tr>\n",
              "    <tr>\n",
              "      <th>IsActiveMember</th>\n",
              "      <th></th>\n",
              "    </tr>\n",
              "  </thead>\n",
              "  <tbody>\n",
              "    <tr>\n",
              "      <th>0</th>\n",
              "      <td>1302</td>\n",
              "    </tr>\n",
              "    <tr>\n",
              "      <th>1</th>\n",
              "      <td>735</td>\n",
              "    </tr>\n",
              "  </tbody>\n",
              "</table>\n",
              "</div>"
            ],
            "text/plain": [
              "                Exited\n",
              "IsActiveMember        \n",
              "0                 1302\n",
              "1                  735"
            ]
          },
          "metadata": {},
          "execution_count": 178
        }
      ]
    },
    {
      "cell_type": "markdown",
      "metadata": {
        "id": "hB-DjiHtcp1A"
      },
      "source": [
        "### Alguns dados importantes que precisam ser listados:\n",
        "\n",
        "* a) Os clientes do sexo feminino foram que mais saíram do banco.\n",
        "* b) A Alemanha foi o país com maior número de saídas.\n",
        "* c) Os clientes que possuem cartão de crédito têm mais saídas do que nenhum cartão.\n",
        "* d) Os clientes que têm mais produtos têm menos probabilidade de abandono.\n",
        "* e) Membros ativos têm menos probabilidade de sair.\n",
        "\n",
        "\n",
        "\n"
      ]
    },
    {
      "cell_type": "code",
      "metadata": {
        "id": "f5xkK85MVM3b"
      },
      "source": [
        "d1= dados.copy()\n",
        "dados_Active = d1[d1[\"Exited\"] == 0]"
      ],
      "execution_count": null,
      "outputs": []
    },
    {
      "cell_type": "code",
      "metadata": {
        "colab": {
          "base_uri": "https://localhost:8080/",
          "height": 338
        },
        "id": "xluzoSD8A15W",
        "outputId": "6b8c4b87-519d-4465-c2b6-8111b735b588"
      },
      "source": [
        "# Localidade de concentração dos clientes em todo dataset\n",
        "\n",
        "colors = [ 'darkred','maroon', 'firebrick']\n",
        "plt.figure(figsize=(10,5))\n",
        "dados['Geography'].value_counts()[:3].plot(kind='barh', color=colors)\n",
        "plt.ylabel(\"Países\", size=12) \n",
        "plt.title(\"Geografia dos clientes do dataset\", size=14) \n",
        "plt.show()"
      ],
      "execution_count": null,
      "outputs": [
        {
          "output_type": "display_data",
          "data": {
            "image/png": "[encoded data removed]",
            "text/plain": [
              "<Figure size 720x360 with 1 Axes>"
            ]
          },
          "metadata": {
            "needs_background": "light"
          }
        }
      ]
    },
    {
      "cell_type": "code",
      "metadata": {
        "colab": {
          "base_uri": "https://localhost:8080/",
          "height": 338
        },
        "id": "5XcloLVtVXyv",
        "outputId": "e4c64d59-2f84-4e37-9e8e-80479ee3933d"
      },
      "source": [
        "# Localidade de concentração dos clientes ativos\n",
        "\n",
        "colors = [ 'darkred','maroon', 'firebrick']\n",
        "plt.figure(figsize=(10,5))\n",
        "dados_Active['Geography'].value_counts()[:3].plot(kind='barh', color=colors)\n",
        "plt.ylabel(\"Países\", size=12) \n",
        "plt.title(\"Geografia dos clientes ATIVOS\", size=14) \n",
        "plt.show()"
      ],
      "execution_count": null,
      "outputs": [
        {
          "output_type": "display_data",
          "data": {
            "image/png": "[encoded data removed]",
            "text/plain": [
              "<Figure size 720x360 with 1 Axes>"
            ]
          },
          "metadata": {
            "needs_background": "light"
          }
        }
      ]
    },
    {
      "cell_type": "markdown",
      "metadata": {
        "id": "t_dnAwQijRE3"
      },
      "source": [
        "Após a análise, a Alemanha ficou em último lugar no ranking de clientes"
      ]
    },
    {
      "cell_type": "code",
      "metadata": {
        "colab": {
          "base_uri": "https://localhost:8080/",
          "height": 642
        },
        "id": "33vS-I7ajdLa",
        "outputId": "264c66da-5d51-47ac-dd33-732f19752f5d"
      },
      "source": [
        "f, ax = plt.subplots(figsize=(10, 9)) \n",
        "sns.heatmap(dados.corr(),annot=True)"
      ],
      "execution_count": null,
      "outputs": [
        {
          "output_type": "execute_result",
          "data": {
            "text/plain": [
              "<matplotlib.axes._subplots.AxesSubplot at 0x7f49e6a6a4d0>"
            ]
          },
          "metadata": {},
          "execution_count": 186
        },
        {
          "output_type": "display_data",
          "data": {
            "image/png": "[encoded data removed]",
            "text/plain": [
              "<Figure size 720x648 with 2 Axes>"
            ]
          },
          "metadata": {
            "needs_background": "light"
          }
        }
      ]
    },
    {
      "cell_type": "markdown",
      "metadata": {
        "id": "pLKWrG9rkaN6"
      },
      "source": [
        "Acima inserimos uma matriz de correlação pois facilita a associação entre duas ou mais variáveis, neste caso mostra qual é o grau de dependencia entre variáveis, ou seja, o quanto uma variável interfere em outra.\n",
        "\n",
        "Qualquer valor inferior a 0,4 é considerado uma fraca ou nenhuma correlação. \n",
        "O gráfico acima apresenta que nenhuma das variáveis tem dependencias fortes.\n"
      ]
    },
    {
      "cell_type": "code",
      "metadata": {
        "colab": {
          "base_uri": "https://localhost:8080/"
        },
        "id": "aX_e046qnHCr",
        "outputId": "a11516e6-7a49-40f0-8c41-dcfef866ec9e"
      },
      "source": [
        "#vamos verificar se existe algum dado fora do normal na coluna idade \n",
        "dados['Age'].describe()"
      ],
      "execution_count": null,
      "outputs": [
        {
          "output_type": "execute_result",
          "data": {
            "text/plain": [
              "count    10000.000000\n",
              "mean        38.921800\n",
              "std         10.487806\n",
              "min         18.000000\n",
              "25%         32.000000\n",
              "50%         37.000000\n",
              "75%         44.000000\n",
              "max         92.000000\n",
              "Name: Age, dtype: float64"
            ]
          },
          "metadata": {},
          "execution_count": 188
        }
      ]
    },
    {
      "cell_type": "code",
      "metadata": {
        "colab": {
          "base_uri": "https://localhost:8080/",
          "height": 318
        },
        "id": "h652o-LPn2VD",
        "outputId": "e4dd5b2c-dbae-470c-d5e8-1e6fb5054ded"
      },
      "source": [
        "#verificando o resultado\n",
        "sns.boxplot(dados['Age']).set_title('Age')"
      ],
      "execution_count": null,
      "outputs": [
        {
          "output_type": "execute_result",
          "data": {
            "text/plain": [
              "Text(0.5, 1.0, 'Age')"
            ]
          },
          "metadata": {},
          "execution_count": 190
        },
        {
          "output_type": "display_data",
          "data": {
            "image/png": "[encoded data removed]",
            "text/plain": [
              "<Figure size 432x288 with 1 Axes>"
            ]
          },
          "metadata": {
            "needs_background": "light"
          }
        }
      ]
    },
    {
      "cell_type": "markdown",
      "metadata": {
        "id": "eMIVw01eo7ns"
      },
      "source": [
        "Possível notar a maior concentração do público com idade entre 35 a 45 anos."
      ]
    },
    {
      "cell_type": "code",
      "metadata": {
        "colab": {
          "base_uri": "https://localhost:8080/"
        },
        "id": "eWovelH0pMnT",
        "outputId": "cb41a6e7-b7ce-428b-fc5b-107be978a11a"
      },
      "source": [
        "# Cálculo de Churn rate simples\n",
        "\n",
        "(dados['Exited']==1).sum()/(dados['Exited']==0).sum()"
      ],
      "execution_count": null,
      "outputs": [
        {
          "output_type": "execute_result",
          "data": {
            "text/plain": [
              "0.25580811252040686"
            ]
          },
          "metadata": {},
          "execution_count": 191
        }
      ]
    },
    {
      "cell_type": "markdown",
      "metadata": {
        "id": "gTN87AkmqBFl"
      },
      "source": [
        "Algumas conclusões:\n",
        "\n",
        "Em um período não estipulado pela base de dados temos uma churn rate de 25%, que é considerado alto, geralmente os especialistas sugerem que esse número fique entre 5% até 7%, porém isso pode variar de acordo com o setor, quantidade de clientes, geografia, receita anual entre outros.\n",
        "\n",
        "É importante ressaltar que por conta da pandemia, as empresas tem se esforçado cada vez mais para reter seus clientes, por isso o acompanhamento e entedimento do Churn é extremamente necessário para o sucesso de muitos negócios.\n",
        "\n",
        "A quantidade de mulheres com maior concentração na Alemanha foram as que mais saíram do banco. Também foi possível notar o quanto é importante manter o contato mais próximo com os clientes para se manterem ativos, pois vimos que a probabilidade de abandono com ausência de oferta de produtos é uma das possíveis causas de saída.\n",
        "\n",
        "Obrigada pela leitura !\n",
        "\n",
        "Alanna Gonzaga\n",
        "https://github.com/AlannaGonzaga"
      ]
    }
  ]
}